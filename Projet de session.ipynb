{
 "cells": [
  {
   "cell_type": "code",
   "execution_count": 1,
   "id": "e6ba625f",
   "metadata": {},
   "outputs": [
    {
     "name": "stdout",
     "output_type": "stream",
     "text": [
      "            Moyenne Parc  Écart-type Parc  Moyenne École  Écart-type École  \\\n",
      "Montréal              46               21             24                11   \n",
      "Sherbrooke            48                0             16                 0   \n",
      "\n",
      "            Corrélation Habitant  \n",
      "Montréal                     621  \n",
      "Sherbrooke                   426  \n"
     ]
    },
    {
     "data": {
      "text/plain": [
       "<AxesSubplot:>"
      ]
     },
     "execution_count": 1,
     "metadata": {},
     "output_type": "execute_result"
    },
    {
     "data": {
      "image/png": "[encoded data removed]",
      "text/plain": [
       "<Figure size 432x288 with 1 Axes>"
      ]
     },
     "metadata": {
      "needs_background": "light"
     },
     "output_type": "display_data"
    },
    {
     "data": {
      "image/png": "[encoded data removed]",
      "text/plain": [
       "<Figure size 432x288 with 1 Axes>"
      ]
     },
     "metadata": {
      "needs_background": "light"
     },
     "output_type": "display_data"
    }
   ],
   "source": [
    "# Ouvrir et lire les fichiers csv\n",
    "import pandas\n",
    "import matplotlib.pyplot as plt\n",
    "import numpy as np\n",
    "site_interet_csv = pandas.read_csv(\"Siteintetret_Sherbrooke.csv\", delimiter=\",\")\n",
    "lieu_interet_csv = pandas.read_csv(\"lieuxintéret_Montéral.csv\", delimiter=\",\")\n",
    "arrondissement = pandas.read_csv(\"Arrondissements_Sherbrooke.csv\", delimiter=\",\")\n",
    "population = pandas.read_csv(\"Populations.csv\", delimiter=\",\")\n",
    "\n",
    "###                 ANALYSE DONNÉES                 ###\n",
    "\n",
    "#####       MONTRÉAL          #####\n",
    "\n",
    "# Sélectionner les colonnes de nom, de type et d'arrondissment des lieux d'intérêts de Montréal\n",
    "lieu_interet = lieu_interet_csv[[\"Type\",\"Arrondissement\"]]\n",
    "\n",
    "\n",
    "# Sélectionner que les parcs de Montréal\n",
    "parc_montreal = lieu_interet[lieu_interet[\"Type\"] == \"Parc\"]\n",
    "\n",
    "# Calcul des statistiques des écoles (hors études supérieurs) par arrondissements\n",
    "a = (parc_montreal.groupby(\"Arrondissement\").count())\n",
    "stat_parc_montreal = a.describe()\n",
    "\n",
    "\n",
    "#Calcul Moyenne\n",
    "moyenne_parc_montreal = stat_parc_montreal['Type']['mean']\n",
    "\n",
    "#Calcul Écart-Type\n",
    "et_parc_montreal = stat_parc_montreal['Type']['std']\n",
    "\n",
    "\n",
    "# Sélectionner que les écoles (hors études supérieurs) de Montréal\n",
    "ecole_montreal = lieu_interet[lieu_interet[\"Type\"] == \"École primaire\"],lieu_interet[lieu_interet[\"Type\"] == \"École secondaire et professionnelle\"]\n",
    "liste_primaire = (ecole_montreal[0].groupby(\"Arrondissement\").count())\n",
    "liste_secondaire =(ecole_montreal[1].groupby(\"Arrondissement\").count())\n",
    "liste_ecole_arrondissement = liste_primaire + liste_secondaire\n",
    "liste_ecole_arrondissement['Type'][3] = 3\n",
    "\n",
    "\n",
    "# Calcul des statistiques des écoles (hors études supérieurs) par arrondissements\n",
    "stat_ecole_montreal = liste_ecole_arrondissement.describe()\n",
    "\n",
    "#Calcul Moyenne\n",
    "somme_ecole_montreal = len(ecole_montreal[0]) + len(ecole_montreal[1])\n",
    "moyenne_ecole_montreal = stat_ecole_montreal['Type']['mean']\n",
    "\n",
    "#Calcul Écart-Type\n",
    "et_ecole_montreal = stat_ecole_montreal['Type']['std']\n",
    "\n",
    "\n",
    "\n",
    "# Calcul de la corrélation entre les sites d'intérêts et les habitants de la Ville de Sherbrooke\n",
    "somme_lieu_interet = len(lieu_interet_csv.groupby(\"ID\").count())\n",
    "somme_population_montreal = population.loc[population[\"Ville\"] == \"Montréal\",\"Population 2021\"]\n",
    "correlation_montreal = somme_population_montreal / somme_lieu_interet\n",
    "\n",
    "\n",
    "\n",
    "#####       SHERBROOKE          #####\n",
    "\n",
    "# Sélectionner les colonnes de nom et de type des sites d'intérêts de Sherbrooke\n",
    "site_interet = site_interet_csv[[\"NOM\",\"TYPE\"]]\n",
    "\n",
    "\n",
    "# Sélectionner que les parcs de Sherbrooke\n",
    "parc_sherbrooke = site_interet[site_interet[\"TYPE\"] == 9]\n",
    "\n",
    "# Calcul de la moyenne de parc par arrondissements\n",
    "moyenne_parc_sherbrooke = len(parc_sherbrooke) / len(arrondissement)\n",
    "\n",
    "#Aucune donnée sur les parcs par arrondissements, donc impossible de calculer l'Écart-Type. La valeur 0  a été attribué\n",
    "#Calcul Écart-Type\n",
    "et_parc_sherbrooke = np.std(moyenne_parc_sherbrooke)\n",
    "\n",
    "# Sélectionner que les écoles (hors études supérieurs) de Sherbrooke\n",
    "ecole_sherbrooke = site_interet[site_interet[\"TYPE\"] == 14],site_interet[site_interet[\"TYPE\"] == 15],site_interet[site_interet[\"TYPE\"] == 18],site_interet[site_interet[\"TYPE\"] == 19]\n",
    "\n",
    "# Calcul des statistiques des écoles (hors études supérieurs) par arrondissements\n",
    "#Calcul Moyenne\n",
    "somme_ecole_sherbrooke = len(ecole_sherbrooke[0]) + len(ecole_sherbrooke[1]) + len(ecole_sherbrooke[2]) + len(ecole_sherbrooke[3])\n",
    "\n",
    "moyenne_ecole_sherbrooke = somme_ecole_sherbrooke / len(arrondissement)\n",
    "\n",
    "#Aucune donnée sur les écoles par arrondissements, donc impossible de calculer l'Écart-Type. La valeur 0  a été attribué\n",
    "#Calcul Écart-Type\n",
    "et_ecole_sherbrooke = np.std(moyenne_ecole_sherbrooke)\n",
    "\n",
    "# Calcul de la corrélation entre les sites d'intérêts et les habitants de la Ville de Sherbrooke\n",
    "somme_site_interet = len(site_interet.groupby(\"NOM\").count())\n",
    "somme_population_sherbrooke = population.loc[population[\"Ville\"] == \"Sherbrooke\",\"Population 2021\"]\n",
    "correlation_sherbrooke = somme_population_sherbrooke / somme_site_interet\n",
    "\n",
    "\n",
    "\n",
    "###                 VISUALISATION DONNÉES                 ###\n",
    "\n",
    "#####       NOUVELLE MATRICE RASSEMBLANT LES STATISTIQUES          #####\n",
    "\n",
    "#nouvelle_matrice des statistiques de Montréal\n",
    "\n",
    "moyenne_parc_montreal = round(moyenne_parc_montreal)\n",
    "et_parc_montreal = round(et_parc_montreal)\n",
    "moyenne_ecole_montreal = round(moyenne_ecole_montreal)\n",
    "et_ecole_montreal = round(et_ecole_montreal)\n",
    "correlation_montreal = round(correlation_montreal[0])\n",
    "\n",
    "nouvelle_matrice_montreal = [\n",
    "    moyenne_parc_montreal,\n",
    "    et_parc_montreal,\n",
    "    moyenne_ecole_montreal,\n",
    "    et_ecole_montreal,\n",
    "    correlation_montreal\n",
    "]\n",
    "\n",
    "\n",
    "#nouvelle_matrice des statistiques de Sherbrooke\n",
    "moyenne_parc_sherbrooke = round(moyenne_parc_sherbrooke)\n",
    "et_parc_sherbrooke = round(et_parc_sherbrooke)\n",
    "moyenne_ecole_sherbrooke = round(moyenne_ecole_sherbrooke)\n",
    "et_ecole_sherbrooke = round(et_ecole_sherbrooke)\n",
    "correlation_sherbrooke = round(correlation_sherbrooke[1])\n",
    "\n",
    "nouvelle_matrice_sherbrooke = [\n",
    "    moyenne_parc_sherbrooke,\n",
    "    et_parc_sherbrooke,\n",
    "    moyenne_ecole_sherbrooke,\n",
    "    et_ecole_sherbrooke,\n",
    "    correlation_sherbrooke\n",
    "]\n",
    "\n",
    "\n",
    "#####       TABLEAU ET DIAGRAMME AVEC NOUVELLE MATRICE          #####\n",
    "\n",
    "#nouvelle_matrice des statistiques des deux villes\n",
    "nouvelle_matrice_finale =pandas.DataFrame([\n",
    "    nouvelle_matrice_montreal,\n",
    "    nouvelle_matrice_sherbrooke\n",
    "    ],\n",
    "    columns = ['Moyenne Parc','Écart-type Parc', 'Moyenne École','Écart-type École','Corrélation Habitant'],\n",
    "    index = ['Montréal', 'Sherbrooke'])\n",
    "\n",
    "print(nouvelle_matrice_finale)\n",
    "\n",
    "#code pour afficher un diagramme sur Jupyter\n",
    "nouvelle_matrice_finale['Corrélation Habitant'].plot(kind=\"line\")\n",
    "del nouvelle_matrice_finale['Corrélation Habitant']\n",
    "nouvelle_matrice_finale.plot(kind=\"bar\")\n"
   ]
  },
  {
   "cell_type": "code",
   "execution_count": null,
   "id": "72f71874",
   "metadata": {},
   "outputs": [],
   "source": []
  }
 ],
 "metadata": {
  "kernelspec": {
   "display_name": "Python 3 (ipykernel)",
   "language": "python",
   "name": "python3"
  },
  "language_info": {
   "codemirror_mode": {
    "name": "ipython",
    "version": 3
   },
   "file_extension": ".py",
   "mimetype": "text/x-python",
   "name": "python",
   "nbconvert_exporter": "python",
   "pygments_lexer": "ipython3",
   "version": "3.9.7"
  }
 },
 "nbformat": 4,
 "nbformat_minor": 5
}
